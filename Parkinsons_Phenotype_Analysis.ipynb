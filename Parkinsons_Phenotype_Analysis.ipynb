{
 "cells": [
  {
   "cell_type": "markdown",
   "id": "3db218fe",
   "metadata": {},
   "source": [
    "# Parkinson’s Disease Phenotype Analysis\n",
    "This notebook replicates the phenotype-based modeling of Parkinson’s disease motor subtypes using a dataset of clinical, cognitive, and dual-task measures. The goal is to analyze phenotype ratio (Tremor vs PIGD) and evaluate its association with functional outcomes."
   ]
  },
  {
   "cell_type": "code",
   "execution_count": null,
   "id": "ebeac2c9",
   "metadata": {},
   "outputs": [],
   "source": [
    "import pandas as pd\n",
    "import numpy as np\n",
    "import seaborn as sns\n",
    "import matplotlib.pyplot as plt\n",
    "from sklearn.linear_model import LinearRegression\n",
    "from sklearn.ensemble import RandomForestRegressor\n",
    "from sklearn.metrics import r2_score, mean_squared_error\n",
    "import scipy.stats as stats\n",
    "\n",
    "# Load dataset\n",
    "df = pd.read_csv('DATA.csv')\n",
    "df.shape"
   ]
  },
  {
   "cell_type": "code",
   "execution_count": null,
   "id": "725d9b06",
   "metadata": {},
   "outputs": [],
   "source": [
    "# Drop unnamed columns often from export artifacts\n",
    "df = df.loc[:, ~df.columns.str.contains('^Unnamed')]\n",
    "df.head()"
   ]
  },
  {
   "cell_type": "markdown",
   "id": "5ff5f427",
   "metadata": {},
   "source": [
    "## Step 1: Phenotype Ratio Calculation"
   ]
  },
  {
   "cell_type": "code",
   "execution_count": null,
   "id": "a9776d3a",
   "metadata": {},
   "outputs": [],
   "source": [
    "# Calculate phenotype ratio: Tremor / (Tremor + PIGD)\n",
    "df['phenotype_ratio'] = df['tremor'] / (df['tremor'] + df['pigd'])\n",
    "df['phenotype_ratio'] = df['phenotype_ratio'].replace([np.inf, -np.inf], np.nan)\n",
    "df['phenotype_ratio'] = df['phenotype_ratio'].fillna(0)\n",
    "df['phenotype_ratio'].describe()"
   ]
  },
  {
   "cell_type": "markdown",
   "id": "b12dc5d5",
   "metadata": {},
   "source": [
    "## Step 2: Group Assignment Based on Phenotype"
   ]
  },
  {
   "cell_type": "code",
   "execution_count": null,
   "id": "1d0fb784",
   "metadata": {},
   "outputs": [],
   "source": [
    "# Group: TD if ratio ≥ 0.75, else PIGD\n",
    "df['group'] = df['phenotype_ratio'].apply(lambda x: 'TD' if x >= 0.75 else 'PIGD')\n",
    "df['group'].value_counts()"
   ]
  },
  {
   "cell_type": "markdown",
   "id": "d6edee30",
   "metadata": {},
   "source": [
    "## Step 3: Visualizing Phenotype Differences"
   ]
  },
  {
   "cell_type": "code",
   "execution_count": null,
   "id": "bacac294",
   "metadata": {},
   "outputs": [],
   "source": [
    "sns.histplot(df['phenotype_ratio'], kde=True, hue=df['group'])\n",
    "plt.title('Distribution of Phenotype Ratio by Group')\n",
    "plt.xlabel('Phenotype Ratio (Tremor / [Tremor + PIGD])')\n",
    "plt.ylabel('Count')\n",
    "plt.show()"
   ]
  },
  {
   "cell_type": "markdown",
   "id": "8684539c",
   "metadata": {},
   "source": [
    "## Step 4: Linear Regression on Outcome"
   ]
  },
  {
   "cell_type": "code",
   "execution_count": null,
   "id": "d2491a46",
   "metadata": {},
   "outputs": [],
   "source": [
    "# Predicting a key outcome (replace with actual column name if needed)\n",
    "outcome_var = 'DT_Balance_Accuracy'  # update based on real column\n",
    "X = df[['phenotype_ratio']]\n",
    "y = df[outcome_var]\n",
    "\n",
    "linreg = LinearRegression()\n",
    "linreg.fit(X, y)\n",
    "y_pred = linreg.predict(X)\n",
    "\n",
    "print('R-squared:', r2_score(y, y_pred))\n",
    "print('RMSE:', mean_squared_error(y, y_pred, squared=False))"
   ]
  },
  {
   "cell_type": "markdown",
   "id": "df66ccd8",
   "metadata": {},
   "source": [
    "## Step 5: Random Forest Model"
   ]
  },
  {
   "cell_type": "code",
   "execution_count": null,
   "id": "873ddbbb",
   "metadata": {},
   "outputs": [],
   "source": [
    "# Random Forest with additional predictors (add as needed)\n",
    "features = ['phenotype_ratio', 'age', 'sex', 'tremor', 'pigd']  # expand as used in R\n",
    "df = df.dropna(subset=features + [outcome_var])\n",
    "X = df[features]\n",
    "y = df[outcome_var]\n",
    "\n",
    "rf = RandomForestRegressor(n_estimators=100, random_state=42)\n",
    "rf.fit(X, y)\n",
    "preds = rf.predict(X)\n",
    "\n",
    "print('R-squared:', r2_score(y, preds))\n",
    "pd.Series(rf.feature_importances_, index=X.columns).sort_values(ascending=False).plot(kind='barh')\n",
    "plt.title('Feature Importance')\n",
    "plt.show()"
   ]
  },
  {
   "cell_type": "markdown",
   "id": "e431cc92",
   "metadata": {},
   "source": [
    "## Step 6: Conclusion\n",
    "- The phenotype ratio was effective in separating TD and PIGD groups based on a threshold of 0.75.\n",
    "- Linear regression showed a measurable relationship between phenotype and outcome.\n",
    "- Random Forest modeling revealed phenotype ratio, tremor, and age as strong predictors.\n",
    "- These insights support the use of phenotype ratio as a marker in clinical modeling and digital biomarker development."
   ]
  }
 ],
 "metadata": {},
 "nbformat": 4,
 "nbformat_minor": 5
}
